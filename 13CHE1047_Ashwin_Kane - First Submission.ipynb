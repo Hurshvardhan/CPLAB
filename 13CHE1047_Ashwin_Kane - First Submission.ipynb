{
 "metadata": {
  "kernelspec": {
   "display_name": "Python 2",
   "language": "python",
   "name": "python2"
  },
  "language_info": {
   "codemirror_mode": {
    "name": "ipython",
    "version": 2
   },
   "file_extension": ".py",
   "mimetype": "text/x-python",
   "name": "python",
   "nbconvert_exporter": "python",
   "pygments_lexer": "ipython2",
   "version": "2.7.10"
  },
  "name": ""
 },
 "nbformat": 3,
 "nbformat_minor": 0,
 "worksheets": [
  {
   "cells": [
    {
     "cell_type": "markdown",
     "metadata": {},
     "source": [
      "# Fitting Problem\n",
      "\n",
      "At different temperatures, the values of the parameters A and Ea were estimated usig kinetic constant values.\n",
      "\n",
      "The model used is:\n",
      "\n",
      "$$ k(T) = A e^\\frac{-E_a}{RT} $$\n"
     ]
    },
    {
     "cell_type": "code",
     "collapsed": false,
     "input": [
      "import pandas as pd\n",
      "d= {'Temp_C':[250,300,350,400],'k1':[4.1e-2,8.03e-2,1.36e-1,1.90e-1,],'k1_err':[5.63e-2,1.55e-1,4.42e-1,6.51e-1],\n",
      "    'k2':[7.17e-4,1.85e-3,4.29e-3,1.13e-2],'k2_err':[1.83e-4,4.2e-4,1.43e-3,6.07e-3]}\n",
      "df= pd.DataFrame(d)"
     ],
     "language": "python",
     "metadata": {},
     "outputs": [],
     "prompt_number": 3
    },
    {
     "cell_type": "code",
     "collapsed": false,
     "input": [
      "df\n"
     ],
     "language": "python",
     "metadata": {},
     "outputs": [
      {
       "html": [
        "<div style=\"max-width:1500px;overflow:auto;\">\n",
        "<table border=\"1\" class=\"dataframe\">\n",
        "  <thead>\n",
        "    <tr style=\"text-align: right;\">\n",
        "      <th></th>\n",
        "      <th>Temp_C</th>\n",
        "      <th>k1</th>\n",
        "      <th>k1_err</th>\n",
        "      <th>k2</th>\n",
        "      <th>k2_err</th>\n",
        "    </tr>\n",
        "  </thead>\n",
        "  <tbody>\n",
        "    <tr>\n",
        "      <th>0</th>\n",
        "      <td>250</td>\n",
        "      <td>0.0410</td>\n",
        "      <td>0.0563</td>\n",
        "      <td>0.000717</td>\n",
        "      <td>0.000183</td>\n",
        "    </tr>\n",
        "    <tr>\n",
        "      <th>1</th>\n",
        "      <td>300</td>\n",
        "      <td>0.0803</td>\n",
        "      <td>0.1550</td>\n",
        "      <td>0.001850</td>\n",
        "      <td>0.000420</td>\n",
        "    </tr>\n",
        "    <tr>\n",
        "      <th>2</th>\n",
        "      <td>350</td>\n",
        "      <td>0.1360</td>\n",
        "      <td>0.4420</td>\n",
        "      <td>0.004290</td>\n",
        "      <td>0.001430</td>\n",
        "    </tr>\n",
        "    <tr>\n",
        "      <th>3</th>\n",
        "      <td>400</td>\n",
        "      <td>0.1900</td>\n",
        "      <td>0.6510</td>\n",
        "      <td>0.011300</td>\n",
        "      <td>0.006070</td>\n",
        "    </tr>\n",
        "  </tbody>\n",
        "</table>\n",
        "</div>"
       ],
       "metadata": {},
       "output_type": "pyout",
       "prompt_number": 4,
       "text": [
        "   Temp_C      k1  k1_err        k2    k2_err\n",
        "0     250  0.0410  0.0563  0.000717  0.000183\n",
        "1     300  0.0803  0.1550  0.001850  0.000420\n",
        "2     350  0.1360  0.4420  0.004290  0.001430\n",
        "3     400  0.1900  0.6510  0.011300  0.006070"
       ]
      }
     ],
     "prompt_number": 4
    },
    {
     "cell_type": "markdown",
     "metadata": {},
     "source": [
      "We now plot the constants as they are. "
     ]
    },
    {
     "cell_type": "code",
     "collapsed": false,
     "input": [
      "import matplotlib.pyplot as plt\n",
      "\n",
      "plt.style.use('ggplot')\n",
      "plt.gridlines= True\n",
      "%matplotlib inline\n",
      "figure = plt.figure()\n",
      "ax= figure.add_subplot(111)\n",
      "ax.scatter(df.Temp_C,df.k1,color= 'red',label= 'k1')\n",
      "ax.scatter(df.Temp_C,df.k2,color= 'blue',label = 'k2')\n",
      "ax.errorbar(df.Temp_C,df.k1,yerr=df.k1_err, fmt ='o',ecolor='red')\n",
      "ax.errorbar(df.Temp_C,df.k2,yerr= df.k2_err, fmt = 'o',color='blue',ecolor= 'blue')\n",
      "ax.xaxis.label.set_text('Temp in C')\n",
      "ax.yaxis.label.set_text('kinetic constants in 1/s')\n",
      "ax.title.set_text('Kinetic Constants vs Temp')\n",
      "ax.legend(loc=0)\n",
      "fig.canvas.draw()\n",
      "    \n"
     ],
     "language": "python",
     "metadata": {},
     "outputs": []
    },
    {
     "cell_type": "code",
     "collapsed": false,
     "input": [],
     "language": "python",
     "metadata": {},
     "outputs": []
    }
   ],
   "metadata": {}
  }
 ]
}